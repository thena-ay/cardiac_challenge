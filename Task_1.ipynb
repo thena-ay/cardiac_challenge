{
  "nbformat": 4,
  "nbformat_minor": 0,
  "metadata": {
    "colab": {
      "provenance": [],
      "authorship_tag": "ABX9TyO7ng3Q7MzNjxLQ5I2L3k/S",
      "include_colab_link": true
    },
    "kernelspec": {
      "name": "python3",
      "display_name": "Python 3"
    },
    "language_info": {
      "name": "python"
    }
  },
  "cells": [
    {
      "cell_type": "markdown",
      "metadata": {
        "id": "view-in-github",
        "colab_type": "text"
      },
      "source": [
        "<a href=\"https://colab.research.google.com/github/thena-ay/cardiac_challenge/blob/main/Task_1.ipynb\" target=\"_parent\"><img src=\"https://colab.research.google.com/assets/colab-badge.svg\" alt=\"Open In Colab\"/></a>"
      ]
    },
    {
      "cell_type": "code",
      "execution_count": 5,
      "metadata": {
        "id": "_PhFLOt_qcX2"
      },
      "outputs": [],
      "source": [
        "# import libraries\n",
        "import pandas as pd\n",
        "import matplotlib.pyplot as plt"
      ]
    },
    {
      "cell_type": "code",
      "source": [
        "# read data\n",
        "abnormal_data = pd.read_csv('/content/ecg_dataset/ptbdb_abnormal.csv')\n",
        "normal_data = pd.read_csv('/content/ecg_dataset/ptbdb_normal.csv')"
      ],
      "metadata": {
        "id": "8HWcViKfqw0u"
      },
      "execution_count": 8,
      "outputs": []
    }
  ]
}